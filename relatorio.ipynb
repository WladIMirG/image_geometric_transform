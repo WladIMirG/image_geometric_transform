{
 "cells": [
  {
   "cell_type": "markdown",
   "metadata": {},
   "source": [
    "# <center>**Work 4: Transformação Geometricas**</center>\n",
    "# <center>Wladimir Arturo Garces Carrillo</center>\n",
    "### <center>RA204059</center>\n",
    "#### <center>MO443_1s2022</center>"
   ]
  },
  {
   "cell_type": "markdown",
   "metadata": {},
   "source": [
    "# **Considerações iniciais**"
   ]
  },
  {
   "cell_type": "markdown",
   "metadata": {},
   "source": [
    "\n",
    "## **Entradas**"
   ]
  },
  {
   "cell_type": "markdown",
   "metadata": {},
   "source": [
    "\n",
    ">#### São considerados para entrada:\n",
    ">\n",
    ">>- Ânguo de rotação medido em graus no  sentido anti-horario.\n",
    ">>- Factor de escala em x.\n",
    ">>- Factor de escala em y.\n",
    ">>- Método de interpolação utilizado.\n",
    ">>- Imagem de entrada no formato PNG.\n",
    ">>- Imagem de saída no formato PNG (após a transformação geométrica).\n",
    ">>- Modo de operação, tipo de transformação."
   ]
  },
  {
   "cell_type": "markdown",
   "metadata": {},
   "source": [
    "\n",
    "## **Formato de entrada**"
   ]
  },
  {
   "cell_type": "markdown",
   "metadata": {},
   "source": [
    "\n",
    "<center>python run.py -a |ãngulo| -sx |X scale| -sy |Y scale| -m |interpolação| -i |img_i| -o |img_o| -mod |Mode|*</center>"
   ]
  },
  {
   "cell_type": "markdown",
   "metadata": {},
   "source": [
    "\n",
    ">\n",
    ">#### **Angulo (-a, --angulo):**\n",
    ">Refere-se ao ãnguo de rotação medido em graus no sentido anti-horario que vai se aplicar na transformação geométrica da imgem.\n",
    ">\n",
    ">#### **X Scale (-sx, --x_scale):**\n",
    ">Refere-se ao factor de escala noi eixo \"X\" que vai se aplicar na transformação geométrica da imgem.\n",
    ">\n",
    ">#### **Y Scale (-sy, --y_scale):**\n",
    ">Refere-se ao factor de escala noi eixo \"Y\" que vai se aplicar na transformação geométrica da imgem.\n",
    ">\n",
    ">#### **Interpolação (-m, --interp):**\n",
    ">Refere-se ao modo em que vai se calcular as intensidade dos pixels após a transformação geométrica.\n",
    ">>- Interpolação pelo Vizinho Mais Proximo (inter_VMP).\n",
    ">>- Interpolação Bilinear (inter_bilinear)\n",
    ">\n",
    ">#### **Img_i (-i, --img_i):**\n",
    ">Refere-se ao nome do arquivo de imagem que será fornecido ao sistema como uma string. Deve-se considerar que o nome do arquivo tem que ficar contido na pasta *img/* do projeto. O nome contém a extensão do arquivo em *.png* ou *.jpg*.\n",
    ">\n",
    ">#### **Img_o (-o, --img_o):**\n",
    ">Refere-se ao nome do arquivo de imagem que será devolvida e guardada por o sistema em formato *.png*. Deve-se considerar que o arquivo com este nome reside na pasta *results/* e que o nome contém a extensão do arquivo em *.png*.\n",
    ">\n",
    ">#### **Mode (-mod, --mode):**\n",
    ">Refere-se ao modo da transformação geométrica que vai se aplicar na imagem.\n",
    ">>- Perspectiva.\n",
    ">>- Escala.\n",
    ">>- Rotação.\n",
    ">\n",
    "> ___"
   ]
  },
  {
   "cell_type": "markdown",
   "metadata": {},
   "source": [
    "# **Uso**"
   ]
  },
  {
   "cell_type": "markdown",
   "metadata": {},
   "source": [
    "\n",
    ">Os pacotes necessários para executar corretamente este arquivo são numpy, matplotlib, scikit-learn e opencv, que são instalados com os seguintes comandos de um console.\n",
    "\n",
    "<center>pip install numpy</center> \n",
    "<center>pip install opencv-python</center>"
   ]
  },
  {
   "cell_type": "markdown",
   "metadata": {},
   "source": [
    "# **Processo**\n",
    "\n",
    ">O processo do programa é descrito abaixo\n",
    ">>- Carrega da imgem.\n",
    ">>- Calcular transformação.\n",
    ">>- Guardar resultados.\n",
    ">\n",
    ">O processo descrito acima é encontrado na função de python a seguir."
   ]
  },
  {
   "cell_type": "code",
   "execution_count": null,
   "metadata": {},
   "outputs": [],
   "source": [
    "def main(args):\n",
    "    img = imagem_upload(args)\n",
    "    img_s = modo[args[\"mode\"]](img, args)\n",
    "    show_save_img(img, img_s, args)"
   ]
  },
  {
   "cell_type": "markdown",
   "metadata": {},
   "source": [
    "# Desenvolvimento"
   ]
  },
  {
   "cell_type": "markdown",
   "metadata": {},
   "source": [
    "## **Perspectiva**\n",
    "\n"
   ]
  },
  {
   "cell_type": "code",
   "execution_count": null,
   "metadata": {},
   "outputs": [],
   "source": [
    "def perspectiva(img, args):\n",
    "    # This function applies a perspective transformation to an image.\n",
    "    # Init points\n",
    "    pts1 = np.float32([[37,51],[342,42],[485,467],[73,380]])\n",
    "    # End points\n",
    "    pts2 = np.float32([[0,0],[511,0],[511,511],[0,511]])\n",
    "    \n",
    "    # Calculate the perspective transform matrix\n",
    "    M = cv2.getPerspectiveTransform(pts1,pts2)\n",
    "    # Apply the perspective transform to the image\n",
    "    img_s = cv2.warpPerspective(img, M, (511,511))\n",
    "    \n",
    "    img[51,27:47] = [255,0,0]\n",
    "    img[41:61,37] = [255,0,0]\n",
    "    \n",
    "    img[42,332:352] = [0,255,0]\n",
    "    img[32:52,342] = [0,255,0]\n",
    "    \n",
    "    img[467,475:495] = [0,0,255]\n",
    "    img[457:477,485] = [0,0,255]\n",
    "    \n",
    "    img[380,63:83] = [255,255,255]\n",
    "    img[370:390,73] = [255,255,255]\n",
    "    \n",
    "    return img_s"
   ]
  },
  {
   "cell_type": "markdown",
   "metadata": {},
   "source": [
    "## Escala"
   ]
  },
  {
   "cell_type": "code",
   "execution_count": null,
   "metadata": {},
   "outputs": [],
   "source": [
    "def escala(img, args):\n",
    "    # This function scales an image around the center of the image.\n",
    "    # Create out image whit the same size of the original image.\n",
    "    # Calculing midle of the image.\n",
    "    # Calculing a scale matrix.\n",
    "    # Calculing inverse scale matrix.\n",
    "    # Scale the image process.\n",
    "    \n",
    "    sx = args[\"x_scale\"]\n",
    "    sy = args[\"y_scale\"]\n",
    "    \n",
    "    img_s = np.zeros(img.shape, dtype=np.uint8)\n",
    "    y, x = img_s.shape[:2]\n",
    "    midy, midx = y//2, x//2\n",
    "    \n",
    "    s = np.array([[sx, 0, 0],\n",
    "                  [0, sy, 0],\n",
    "                  [0, 0, 1]])\n",
    "    \n",
    "    i_s = np.linalg.inv(s)\n",
    "    for i in range(y-1):\n",
    "        for j in range(x-1):\n",
    "            xnew = j - midx\n",
    "            ynew = i - midy\n",
    "            p = np.array([[xnew],\n",
    "                          [ynew],\n",
    "                          [1]])\n",
    "            # Scale the point\n",
    "            p = np.dot(i_s, p)\n",
    "            # Add the midle of the image\n",
    "            p[0] += midx\n",
    "            p[1] += midy\n",
    "            # If the point is inside the image\n",
    "            if p[0]>=0 and p[0]<x-1 and p[1]>=0 and p[1]<y-1:\n",
    "                # img_s[i,j] = inter_bilinear(img, p) or inter_VMP(img, p)\n",
    "                img_s[i,j] = interpolador(args)(img, p)\n",
    "    return img_s"
   ]
  },
  {
   "cell_type": "markdown",
   "metadata": {},
   "source": [
    "## Rotação"
   ]
  },
  {
   "cell_type": "code",
   "execution_count": null,
   "metadata": {},
   "outputs": [],
   "source": [
    "def rotate(img, args):\n",
    "    # This function rotates an image around the center of the image.\n",
    "    # Create out image whit the same size of the original image.\n",
    "    # Calculing midle of the image.\n",
    "    # Calculing a rotation matrix.\n",
    "    # Calculing inverse rotation matrix.\n",
    "    # Rotate the image process.\n",
    "    angulo = args[\"angulo\"]\n",
    "    salida = np.zeros(img.shape, dtype=np.uint8)\n",
    "    y, x = salida.shape[:2]\n",
    "    midy, midx = y//2, x//2\n",
    "    cos = np.cos(np.deg2rad(angulo))\n",
    "    sen = np.sin(np.deg2rad(angulo))\n",
    "    r = np.array([[cos, -sen, 0], \n",
    "                [sen,  cos, 0],\n",
    "                [  0,    0, 1]])\n",
    "    ir = np.linalg.inv(r)\n",
    "\n",
    "    for i in range(y-1):\n",
    "        for j in range(x-1):\n",
    "            xnew = j - midx\n",
    "            ynew = i - midy\n",
    "            p = np.array([[xnew],\n",
    "                          [ynew],\n",
    "                          [1]])\n",
    "            # Rotate the point\n",
    "            p = np.dot(ir, p)\n",
    "            # Add the midle of the image\n",
    "            p[0] += midx\n",
    "            p[1] += midy\n",
    "            # If the point is inside the image\n",
    "            if p[0]>=0 and p[0]<x-1 and p[1]>=0 and p[1]<y-1:\n",
    "                # salida[i,j] = inter_bilinear(img, p) or inter_VMP(img, p)\n",
    "                salida[i,j] = interpolador(args)(img, p)\n",
    "    return salida"
   ]
  },
  {
   "cell_type": "markdown",
   "metadata": {},
   "source": [
    "## Interpolador"
   ]
  },
  {
   "cell_type": "markdown",
   "metadata": {},
   "source": [
    "### Interpolação pelo Vizinho Mais Próximo"
   ]
  },
  {
   "cell_type": "code",
   "execution_count": null,
   "metadata": {},
   "outputs": [],
   "source": [
    "def inter_VMP(img, p):\n",
    "    # print(p[0])\n",
    "    p = p.astype(int)\n",
    "    return img[p[1],p[0]]"
   ]
  },
  {
   "cell_type": "markdown",
   "metadata": {},
   "source": [
    "Esta função arredonda os valores para o vizinho mais próximo."
   ]
  },
  {
   "cell_type": "markdown",
   "metadata": {},
   "source": [
    "### Interpolação Biliniar"
   ]
  },
  {
   "cell_type": "code",
   "execution_count": null,
   "metadata": {},
   "outputs": [],
   "source": [
    "def inter_bilinear(img, p):\n",
    "    dx = p[0] - p[0].astype(int)\n",
    "    dy = p[1] - p[1].astype(int)\n",
    "    p = p.astype(int)\n",
    "    t1 = (1-dx)*(1-dy)*img[p[1],p[0]]\n",
    "    t2 = dx*(1-dy)*img[p[1],p[0]+1]\n",
    "    t3 = dx*dy*img[p[1]+1,p[0]+1]\n",
    "    t4 = (1-dx)*dy*img[p[1]+1,p[0]]\n",
    "    intensidade = t1+t2+t3+t4\n",
    "    return intensidade"
   ]
  },
  {
   "cell_type": "markdown",
   "metadata": {},
   "source": [
    "Nesta função são calculadas as diferenças entre os pixels da imagem e aqueles calculados após a transformação, terminando na soma da multiplicação desses fatores pelas intensidades dos vizinhos do pixel resultante, ao final o resultado é assumido como a intensidade do novo pixel."
   ]
  },
  {
   "cell_type": "markdown",
   "metadata": {},
   "source": [
    "# Experimentos"
   ]
  },
  {
   "cell_type": "markdown",
   "metadata": {},
   "source": [
    "### Rotação"
   ]
  },
  {
   "cell_type": "markdown",
   "metadata": {},
   "source": [
    "##### Interpolação bilinear"
   ]
  },
  {
   "cell_type": "code",
   "execution_count": 7,
   "metadata": {},
   "outputs": [
    {
     "name": "stdout",
     "output_type": "stream",
     "text": [
      "{'angulo': 45.0, 'x_scale': 1, 'y_scale': 1, 'altura': 0, 'interp': 'inter_bilinear', 'img_i': 'baboon.png', 'img_o': None, 'mode': 'rotate'}\n"
     ]
    }
   ],
   "source": [
    "!python run.py -mod rotate -a 45 -i baboon.png -m inter_bilinear"
   ]
  },
  {
   "cell_type": "markdown",
   "metadata": {},
   "source": [
    "<center>\n",
    "    <figure>\n",
    "        <div>\n",
    "            <img src=\"results/rotate_45.0.png\"\n",
    "                 style=\"width:50%;height:50%\"\n",
    "                 title=\"rotate_45.0\"/>\n",
    "        <figcaption>Fig 1. Resultados da rotação em 45º com Interpolador Bilinear</figcaption>\n",
    "        </div>\n",
    "    </figure>\n",
    "</center>"
   ]
  },
  {
   "cell_type": "markdown",
   "metadata": {},
   "source": [
    "##### Interpolação pelo Vizinho Mais Próximo"
   ]
  },
  {
   "cell_type": "code",
   "execution_count": 9,
   "metadata": {},
   "outputs": [
    {
     "name": "stdout",
     "output_type": "stream",
     "text": [
      "{'angulo': 80.0, 'x_scale': 1, 'y_scale': 1, 'altura': 0, 'interp': 'inter_VMP', 'img_i': 'baboon.png', 'img_o': None, 'mode': 'rotate'}\n"
     ]
    }
   ],
   "source": [
    "!python run.py -mod rotate -a 80 -i baboon.png -m inter_VMP"
   ]
  },
  {
   "cell_type": "markdown",
   "metadata": {},
   "source": [
    "<center>\n",
    "    <figure>\n",
    "        <div>\n",
    "            <img src=\"results/rotate_80.0.png\"\n",
    "                 style=\"width:50%;height:50%\"\n",
    "                 title=\"rotate_80.0\"/>\n",
    "        <figcaption>Fig 2. Resultados da rotação em 80º com Interpolador VMP.</figcaption>\n",
    "        </div>\n",
    "    </figure>\n",
    "</center>"
   ]
  },
  {
   "cell_type": "markdown",
   "metadata": {},
   "source": [
    "A interpolação VMP fornece u m bom resultado, com intensidades dos pixels ótimas, porem a interpolação Bilinear conserva melhor a suavidade das bordas como pode se observar nas Fig 1 e Fig 2. Nesta ultima as bordas da nariz (em Vermelho) ficam com resolução baixa, mas na Fig 1, esto não se olha."
   ]
  },
  {
   "cell_type": "markdown",
   "metadata": {},
   "source": [
    "### Escala"
   ]
  },
  {
   "cell_type": "markdown",
   "metadata": {},
   "source": [
    "##### Interpolação Bilinear"
   ]
  },
  {
   "cell_type": "code",
   "execution_count": 10,
   "metadata": {},
   "outputs": [
    {
     "name": "stdout",
     "output_type": "stream",
     "text": [
      "{'angulo': 0, 'x_scale': 2.0, 'y_scale': 2.0, 'altura': 0, 'interp': 'inter_bilinear', 'img_i': 'baboon.png', 'img_o': None, 'mode': 'escala'}\n"
     ]
    }
   ],
   "source": [
    "!python run.py -mod escala -sx 2 -sy 2 -i baboon.png -m inter_bilinear"
   ]
  },
  {
   "cell_type": "markdown",
   "metadata": {},
   "source": [
    "<center>\n",
    "    <figure>\n",
    "        <div>\n",
    "            <img src=\"results/escala_2.0_2.0.png\"\n",
    "                 style=\"width:50%;height:50%\"\n",
    "                 title=\"escala_2.0_2.0\"/>\n",
    "        <figcaption>Fig 3. Resultados da escala em sx=2 e sy=2 com Interpolador Bilinear</figcaption>\n",
    "        </div>\n",
    "    </figure>\n",
    "</center>"
   ]
  },
  {
   "cell_type": "markdown",
   "metadata": {},
   "source": [
    "##### Interpolação pelo Vizinho Mais Próximo"
   ]
  },
  {
   "cell_type": "code",
   "execution_count": 11,
   "metadata": {},
   "outputs": [
    {
     "name": "stdout",
     "output_type": "stream",
     "text": [
      "{'angulo': 0, 'x_scale': 2.0, 'y_scale': 2.0, 'altura': 0, 'interp': 'inter_VMP', 'img_i': 'baboon.png', 'img_o': 'escala_VMP_2.0_2.0.png', 'mode': 'escala'}\n"
     ]
    }
   ],
   "source": [
    "!python run.py -mod escala -sx 2 -sy 2 -i baboon.png -o escala_VMP_2.0_2.0.png -m inter_VMP"
   ]
  },
  {
   "cell_type": "markdown",
   "metadata": {},
   "source": [
    "<center>\n",
    "    <figure>\n",
    "        <div>\n",
    "            <img src=\"results/escala_VMP_2.0_2.0.png\"\n",
    "                 style=\"width:50%;height:50%\"\n",
    "                 title=\"escala_VMP_2.0_2.0\"/>\n",
    "        <figcaption>Fig 4. Resultados da escala em sx=2 e sy=2 com Interpolador VMP</figcaption>\n",
    "        </div>\n",
    "    </figure>\n",
    "</center>"
   ]
  },
  {
   "cell_type": "markdown",
   "metadata": {},
   "source": [
    "Novamente olhamos nas Fig 3 e Fig 4 que tem muitas diferencias nas intensedades dos pixels. Fica muito melhor os resultados fornecidos por a interpolação Bilinear."
   ]
  },
  {
   "cell_type": "markdown",
   "metadata": {},
   "source": [
    "##### Outras escalas"
   ]
  },
  {
   "cell_type": "code",
   "execution_count": 12,
   "metadata": {},
   "outputs": [
    {
     "name": "stdout",
     "output_type": "stream",
     "text": [
      "{'angulo': 0, 'x_scale': 0.5, 'y_scale': 0.5, 'altura': 0, 'interp': 'inter_bilinear', 'img_i': 'baboon.png', 'img_o': None, 'mode': 'escala'}\n"
     ]
    }
   ],
   "source": [
    "!python run.py -mod escala -sx 0.5 -sy 0.5 -i baboon.png -m inter_bilinear"
   ]
  },
  {
   "cell_type": "markdown",
   "metadata": {},
   "source": [
    "<center>\n",
    "    <figure>\n",
    "        <div>\n",
    "            <img src=\"results/escala_0.5_0.5.png\"\n",
    "                 style=\"width:50%;height:50%\"\n",
    "                 title=\"escala_0.5_0.5\"/>\n",
    "        <figcaption>Fig 5. Resultados da escala em sx=0.5 e sy=0.5 com Interpolador Bilinear</figcaption>\n",
    "        </div>\n",
    "    </figure>\n",
    "</center>"
   ]
  },
  {
   "cell_type": "code",
   "execution_count": 13,
   "metadata": {},
   "outputs": [
    {
     "name": "stdout",
     "output_type": "stream",
     "text": [
      "{'angulo': 0, 'x_scale': 0.5, 'y_scale': 1.0, 'altura': 0, 'interp': 'inter_bilinear', 'img_i': 'baboon.png', 'img_o': None, 'mode': 'escala'}\n"
     ]
    }
   ],
   "source": [
    "!python run.py -mod escala -sx 0.5 -sy 1 -i baboon.png -m inter_bilinear"
   ]
  },
  {
   "cell_type": "markdown",
   "metadata": {},
   "source": [
    "<center>\n",
    "    <figure>\n",
    "        <div>\n",
    "            <img src=\"results/escala_0.5_1.0.png\"\n",
    "                 style=\"width:50%;height:50%\"\n",
    "                 title=\"escala_0.5_1.0\"/>\n",
    "        <figcaption>Fig 6. Resultados da escala em sx=0.5 e sy=1 com Interpolador Bilinear</figcaption>\n",
    "        </div>\n",
    "    </figure>\n",
    "</center>"
   ]
  },
  {
   "cell_type": "markdown",
   "metadata": {},
   "source": [
    "# Conclusão"
   ]
  },
  {
   "cell_type": "markdown",
   "metadata": {},
   "source": [
    ">- Resultados ótimos são alcançados com ambas as abordagens.\n",
    ">- Quanto mais complexo for o cálculo das intensidades dos pixels, melhor será a qualidade da imagem resultante."
   ]
  },
  {
   "cell_type": "markdown",
   "metadata": {},
   "source": []
  }
 ],
 "metadata": {
  "kernelspec": {
   "display_name": "Python 3 (ipykernel)",
   "language": "python",
   "name": "python3"
  },
  "language_info": {
   "codemirror_mode": {
    "name": "ipython",
    "version": 3
   },
   "file_extension": ".py",
   "mimetype": "text/x-python",
   "name": "python",
   "nbconvert_exporter": "python",
   "pygments_lexer": "ipython3",
   "version": "3.8.10"
  },
  "vscode": {
   "interpreter": {
    "hash": "fed7930e674ca86e3c68c850f8b42c508a277dea731cba69ae20321252692b6f"
   }
  }
 },
 "nbformat": 4,
 "nbformat_minor": 4
}
